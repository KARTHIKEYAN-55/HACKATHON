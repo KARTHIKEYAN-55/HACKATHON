{
 "cells": [
  {
   "cell_type": "code",
   "execution_count": 1,
   "id": "d45d7cff-9e78-4d83-8d46-8122547d3a80",
   "metadata": {},
   "outputs": [],
   "source": [
    "import pandas as pd\n",
    "import numpy as np\n",
    "import matplotlib.pyplot as plt\n",
    "import seaborn as sns"
   ]
  },
  {
   "cell_type": "code",
   "execution_count": 2,
   "id": "9da91817-7787-4d21-945f-8b6d96135af9",
   "metadata": {},
   "outputs": [],
   "source": [
    "df1=pd.read_csv(r\"C:\\Users\\Hp\\Downloads\\dataset and all\\training_set_features.csv\")\n",
    "df2=pd.read_csv(r\"C:\\Users\\Hp\\Downloads\\dataset and all\\training_set_labels.csv\")"
   ]
  },
  {
   "cell_type": "code",
   "execution_count": 3,
   "id": "52602360-b3f0-4fdf-ad6a-61d956144865",
   "metadata": {},
   "outputs": [],
   "source": [
    "a=[col for col in df1.columns if df1[col].dtype==\"O\"]"
   ]
  },
  {
   "cell_type": "code",
   "execution_count": 4,
   "id": "ff82ba5e-4c33-4ee8-a303-caaa300b735a",
   "metadata": {},
   "outputs": [],
   "source": [
    "d={'age_group':{'65+ Years':65,'55 - 64 Years':55,'45 - 54 Years':45,'35 - 44 Years':35,'18 - 34 Years':18}}\n",
    "df1=df1.replace(d)"
   ]
  },
  {
   "cell_type": "code",
   "execution_count": 5,
   "id": "fe06fac5-b349-4e64-82bf-1f94982a8797",
   "metadata": {},
   "outputs": [],
   "source": [
    "from sklearn.preprocessing import LabelEncoder\n",
    "def encode_missing_columns(df,col):\n",
    "    le=LabelEncoder()\n",
    "    u_without_nan=pd.Series([i for i in df[col].unique() if type(i) == str ])\n",
    "    le.fit(u_without_nan)\n",
    "    df[col]=df[col].apply(lambda x: le.transform([x])[0] if type(x) == str else x)"
   ]
  },
  {
   "cell_type": "code",
   "execution_count": 8,
   "id": "90c33fc1-bedf-4eb1-bf80-b9cfd7305fdf",
   "metadata": {},
   "outputs": [],
   "source": [
    "encode_missing_columns(df1,'education')"
   ]
  },
  {
   "cell_type": "code",
   "execution_count": 9,
   "id": "74a40a1f-c0a8-41dd-a2af-7dc54204fbb8",
   "metadata": {},
   "outputs": [],
   "source": [
    "list_columns=a[2:]"
   ]
  },
  {
   "cell_type": "code",
   "execution_count": 10,
   "id": "5f39418d-baa9-465d-90fe-1e470c2d4f0a",
   "metadata": {},
   "outputs": [],
   "source": [
    "for i in list_columns:\n",
    "    encode_missing_columns(df1,i)"
   ]
  },
  {
   "cell_type": "code",
   "execution_count": 12,
   "id": "86fd9b45-e0dc-49b8-be88-79e4f939f62f",
   "metadata": {},
   "outputs": [],
   "source": [
    "from sklearn.impute import SimpleImputer\n",
    "def fill_with_mean(df,col):\n",
    "    imp1=SimpleImputer(strategy=\"mean\")\n",
    "    df[[col]]=imp1.fit_transform(df[[col]])\n",
    "    return df\n",
    "\n",
    "def fill_with_rounded_mean(df,col):\n",
    "    means=round(df[col].mean())\n",
    "    df[col].fillna(means,inplace=True)\n",
    "    return df"
   ]
  },
  {
   "cell_type": "code",
   "execution_count": 13,
   "id": "06e3d07f-00c3-43a7-8ee4-8a1882a854ee",
   "metadata": {},
   "outputs": [],
   "source": [
    "list_mean=['xyz_concern','xyz_knowledge','behavioral_avoidance','behavioral_wash_hands','behavioral_large_gatherings',\\\n",
    "           'behavioral_outside_home','behavioral_touch_face','child_under_6_months','opinion_xyz_vacc_effective',\\\n",
    "           'opinion_xyz_risk','opinion_xyz_sick_from_vacc','opinion_seas_vacc_effective','opinion_seas_risk',\\\n",
    "           'opinion_seas_sick_from_vacc','income_poverty']\n",
    "list_roundedmean=['behavioral_antiviral_meds','behavioral_face_mask','doctor_recc_xyz','doctor_recc_seasonal',\\\n",
    "            'chronic_med_condition','health_worker','education','race','sex','marital_status','rent_or_own',\\\n",
    "            'employment_status','hhs_geo_region','census_msa','household_adults','household_children']"
   ]
  },
  {
   "cell_type": "code",
   "execution_count": 15,
   "id": "28c57767-1746-46d6-9e03-07fe00fc4c9d",
   "metadata": {},
   "outputs": [],
   "source": [
    "for i in list_mean:\n",
    "    fill_with_mean(df1,i)\n",
    "for j in list_roundedmean:\n",
    "    fill_with_rounded_mean(df1,j)"
   ]
  },
  {
   "cell_type": "code",
   "execution_count": 19,
   "id": "fef3cba7-0e40-4e44-a6d1-9acc847375f9",
   "metadata": {},
   "outputs": [],
   "source": [
    "from sklearn.impute import KNNImputer\n",
    "k=KNNImputer(n_neighbors=5)\n",
    "df1[['health_insurance','employment_industry','employment_occupation']]=k.fit_transform(df1[['health_insurance','employment_industry','employment_occupation']])"
   ]
  },
  {
   "cell_type": "code",
   "execution_count": 20,
   "id": "8a758463-db73-4094-a486-1601366271d9",
   "metadata": {},
   "outputs": [],
   "source": [
    "columns1 = [col for col in df1.columns if 'seas' in col]\n",
    "columns2 = [col for col in df1.columns if 'xyz' in col]"
   ]
  },
  {
   "cell_type": "code",
   "execution_count": 22,
   "id": "66499f5c-c72f-44a1-a925-5a1ac24b21aa",
   "metadata": {},
   "outputs": [],
   "source": [
    "from sklearn.model_selection import train_test_split\n",
    "x_train1,x_test1,y_train1,y_test1=train_test_split(df1.drop(columns1,axis=1),df2['xyz_vaccine'],test_size=0.001,random_state=42)\n",
    "x_train2,x_test2,y_train2,y_test2=train_test_split(df1.drop(columns2,axis=1),df2['seasonal_vaccine'],test_size=0.001,random_state=42)"
   ]
  },
  {
   "cell_type": "code",
   "execution_count": 23,
   "id": "f9ab194e-6d11-47bb-a9c0-620c31c15acb",
   "metadata": {},
   "outputs": [],
   "source": [
    "from sklearn.linear_model import LogisticRegression\n",
    "le1=LogisticRegression(max_iter=1000)\n",
    "le1.fit(x_train1,y_train1)\n",
    "pr1=le1.predict_proba(x_test1)\n",
    "le2=LogisticRegression(max_iter=1000)\n",
    "le2.fit(x_train2,y_train2)\n",
    "pr2=le2.predict_proba(x_test2)"
   ]
  },
  {
   "cell_type": "code",
   "execution_count": 24,
   "id": "b050ef00-b8f4-4bab-bd08-495e2637ea64",
   "metadata": {},
   "outputs": [
    {
     "name": "stdout",
     "output_type": "stream",
     "text": [
      "0.9736842105263158\n",
      "0.8522727272727273\n",
      "0.9129784688995215\n"
     ]
    }
   ],
   "source": [
    "from sklearn.metrics import roc_auc_score\n",
    "a1=roc_auc_score(y_test1,pr1[:,1])\n",
    "a2=roc_auc_score(y_test2,pr2[:,1])\n",
    "print(a1)\n",
    "print(a2)\n",
    "print((a1+a2)/2)"
   ]
  },
  {
   "cell_type": "code",
   "execution_count": 25,
   "id": "11c633b9-b993-4371-a6cf-75d5e15aa236",
   "metadata": {},
   "outputs": [],
   "source": [
    "df_test=pd.read_csv(r\"C:\\Users\\Hp\\Downloads\\dataset and all\\test_set_features.csv\")"
   ]
  },
  {
   "cell_type": "code",
   "execution_count": 26,
   "id": "3293c175-b52b-4eba-8786-439cfc712b3d",
   "metadata": {},
   "outputs": [],
   "source": [
    "df_test=df_test.replace(d)"
   ]
  },
  {
   "cell_type": "code",
   "execution_count": 27,
   "id": "c839c190-87ce-477d-bd3a-2c46a90331d1",
   "metadata": {},
   "outputs": [],
   "source": [
    "from sklearn.preprocessing import LabelEncoder\n",
    "def encode_missing_columns(df,col):\n",
    "    le=LabelEncoder()\n",
    "    u_without_nan=pd.Series([i for i in df[col].unique() if type(i) == str ])\n",
    "    le.fit(u_without_nan)\n",
    "    df[col]=df[col].apply(lambda x: le.transform([x])[0] if type(x) == str else x)"
   ]
  },
  {
   "cell_type": "code",
   "execution_count": 29,
   "id": "d79a8e45-275c-43e0-885a-647595a3c2d0",
   "metadata": {},
   "outputs": [],
   "source": [
    "encode_missing_columns(df_test,'education')\n",
    "for i in list_columns:\n",
    "    encode_missing_columns(df_test,i)\n",
    "for i in list_mean:\n",
    "    fill_with_mean(df_test,i)\n",
    "for j in list_roundedmean:\n",
    "    fill_with_rounded_mean(df_test,j)"
   ]
  },
  {
   "cell_type": "code",
   "execution_count": 30,
   "id": "6410572c-b736-4e02-9a6e-7a0b61e805dc",
   "metadata": {},
   "outputs": [],
   "source": [
    "from sklearn.impute import KNNImputer\n",
    "k=KNNImputer(n_neighbors=5)\n",
    "df_test[['health_insurance','employment_industry','employment_occupation']]=k.fit_transform(df_test[['health_insurance','employment_industry','employment_occupation']])"
   ]
  },
  {
   "cell_type": "code",
   "execution_count": 31,
   "id": "f85f9a33-f56e-4213-af18-a1b950468432",
   "metadata": {},
   "outputs": [],
   "source": [
    "X_TEST1=df_test.drop(columns1,axis=1)\n",
    "X_TEST2=df_test.drop(columns2,axis=1)\n",
    "pred1=le1.predict_proba(X_TEST1)\n",
    "pred2=le2.predict_proba(X_TEST2)"
   ]
  },
  {
   "cell_type": "code",
   "execution_count": 32,
   "id": "f9305df3-932f-45b6-8d49-1709dc3c11fc",
   "metadata": {},
   "outputs": [],
   "source": [
    "df3=pd.read_csv(r\"C:\\Users\\Hp\\Downloads\\dataset and all\\submission_format.csv\")"
   ]
  },
  {
   "cell_type": "code",
   "execution_count": 34,
   "id": "379cb273-3476-45ad-a827-bc82984b2c40",
   "metadata": {},
   "outputs": [],
   "source": [
    "df3['h1n1_vaccine']=pred1[:,1]\n",
    "df3['xyz_vaccine']=pred1[:,1]\n",
    "df3['seasonal_vaccine']=pred2[:,1]\n",
    "df3.to_csv(r\"C:\\Users\\Hp\\Downloads\\dataset and all\\submission_format.csv\",index=False)"
   ]
  },
  {
   "cell_type": "code",
   "execution_count": null,
   "id": "18ef624f-0db8-4b6e-9913-163161fe8f79",
   "metadata": {},
   "outputs": [],
   "source": []
  }
 ],
 "metadata": {
  "kernelspec": {
   "display_name": "Python 3 (ipykernel)",
   "language": "python",
   "name": "python3"
  },
  "language_info": {
   "codemirror_mode": {
    "name": "ipython",
    "version": 3
   },
   "file_extension": ".py",
   "mimetype": "text/x-python",
   "name": "python",
   "nbconvert_exporter": "python",
   "pygments_lexer": "ipython3",
   "version": "3.11.7"
  }
 },
 "nbformat": 4,
 "nbformat_minor": 5
}
